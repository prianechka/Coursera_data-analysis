{
 "cells": [
  {
   "cell_type": "markdown",
   "metadata": {},
   "source": [
    "<img src=\"logo.png\" height=\"200\" width=\"900\"> \n",
    "\n",
    "#  Сбор данных: грязная работа вашими руками \n",
    "\n",
    "Пришло время самостоятельно написать парсер! Мы будем собирать данные [о ценах на книги.](http://books.toscrape.com)"
   ]
  },
  {
   "cell_type": "code",
   "execution_count": 1,
   "metadata": {
    "deletable": false,
    "nbgrader": {
     "cell_type": "code",
     "checksum": "763c9b123c61d02adcf8e688c14b824e",
     "grade": false,
     "grade_id": "cell-a1d057ec06e84bdd",
     "locked": false,
     "schema_version": 3,
     "solution": true,
     "task": false
    }
   },
   "outputs": [],
   "source": [
    "### ╰( ͡° ͜ʖ ͡° )つ▬▬ι═══════  bzzzzzzzzzz\n",
    "# will the code be with you\n",
    "    \n",
    "# Подгрузите все необходимые для работы пакеты.\n",
    "import numpy as np\n",
    "import pandas as pd\n",
    "import requests\n",
    "import bs4\n",
    "\n",
    "# Если ваш код будет ругаться, что нет пакета lxml, установите его \n",
    "# Для этого выполните в одной из ячеек команду !pip3 install lxml\n",
    "from typing import List\n",
    "\n",
    "# your code here\n"
   ]
  },
  {
   "cell_type": "markdown",
   "metadata": {},
   "source": [
    "Прогуляйтесь на сайт http://books.toscrape.com/ и изучите его структуру.  \n",
    "\n",
    "\n",
    "# 1. Сбор ссылок на книги\n",
    "\n",
    "Напишите функцию `get_soup`, которая по ссылке возвращает html-разметку страницы в формате `bs4` "
   ]
  },
  {
   "cell_type": "code",
   "execution_count": 2,
   "metadata": {
    "deletable": false,
    "nbgrader": {
     "cell_type": "code",
     "checksum": "9c97f15308c26fba4787e1ed46be1762",
     "grade": false,
     "grade_id": "cell-bb3dd3de95e8b98e",
     "locked": false,
     "schema_version": 3,
     "solution": true,
     "task": false
    }
   },
   "outputs": [],
   "source": [
    "def get_page_soup(url_link):\n",
    "    responce = requests.get(url_link)\n",
    "    if (responce.ok):\n",
    "        html = responce.content\n",
    "        soup = bs4.BeautifulSoup(html,'html.parser')\n",
    "    else:\n",
    "        print(responce)\n",
    "        soup = None\n",
    "    return soup"
   ]
  },
  {
   "cell_type": "code",
   "execution_count": 3,
   "metadata": {},
   "outputs": [
    {
     "data": {
      "text/plain": [
       "'Books to Scrape'"
      ]
     },
     "execution_count": 3,
     "metadata": {},
     "output_type": "execute_result"
    }
   ],
   "source": [
    "main_url = 'http://books.toscrape.com/catalogue/'\n",
    "page_number = 5\n",
    "\n",
    "soup = get_page_soup(main_url + f'page-{page_number}.html')\n",
    "soup.find_all('a')[0].text"
   ]
  },
  {
   "cell_type": "code",
   "execution_count": 4,
   "metadata": {},
   "outputs": [
    {
     "data": {
      "text/plain": [
       "['princess-jellyfish-2-in-1-omnibus-vol-01-princess-jellyfish-2-in-1-omnibus-1_920/index.html',\n",
       " 'princess-between-worlds-wide-awake-princess-5_919/index.html',\n",
       " 'pop-gun-war-volume-1-gift_918/index.html',\n",
       " 'political-suicide-missteps-peccadilloes-bad-calls-backroom-hijinx-sordid-pasts-rotten-breaks-and-just-plain-dumb-mistakes-in-the-annals-of-american-politics_917/index.html',\n",
       " 'patience_916/index.html',\n",
       " 'outcast-vol-1-a-darkness-surrounds-him-outcast-1_915/index.html',\n",
       " 'orange-the-complete-collection-1-orange-the-complete-collection-1_914/index.html',\n",
       " 'online-marketing-for-busy-authors-a-step-by-step-guide_913/index.html',\n",
       " 'on-a-midnight-clear_912/index.html',\n",
       " 'obsidian-lux-1_911/index.html',\n",
       " 'my-paris-kitchen-recipes-and-stories_910/index.html',\n",
       " 'masks-and-shadows_909/index.html',\n",
       " 'mama-tried-traditional-italian-cooking-for-the-screwed-crude-vegan-and-tattooed_908/index.html',\n",
       " 'lumberjanes-vol-2-friendship-to-the-max-lumberjanes-5-8_907/index.html',\n",
       " 'lumberjanes-vol-1-beware-the-kitten-holy-lumberjanes-1-4_906/index.html',\n",
       " 'lumberjanes-vol-3-a-terrible-plan-lumberjanes-9-12_905/index.html',\n",
       " 'layered-baking-building-and-styling-spectacular-cakes_904/index.html',\n",
       " 'judo-seven-steps-to-black-belt-an-introductory-guide-for-beginners_903/index.html',\n",
       " 'join_902/index.html',\n",
       " 'in-the-country-we-love-my-family-divided_901/index.html']"
      ]
     },
     "execution_count": 4,
     "metadata": {},
     "output_type": "execute_result"
    }
   ],
   "source": [
    "books = soup.findAll(lambda tag: tag.name == 'article' and tag.get('class') == [\"product_pod\"])\n",
    "[link.h3.a.attrs['href'] for link in books]"
   ]
  },
  {
   "cell_type": "markdown",
   "metadata": {},
   "source": [
    "Напишите функцию `get_books_links`, которая находит в html-разметке страницы ссылки на странички с отдельными книгами. "
   ]
  },
  {
   "cell_type": "code",
   "execution_count": 5,
   "metadata": {
    "deletable": false,
    "nbgrader": {
     "cell_type": "code",
     "checksum": "f2bcfb757d246472754f42327e7f193d",
     "grade": false,
     "grade_id": "cell-565bf344d89fef43",
     "locked": false,
     "schema_version": 3,
     "solution": true,
     "task": false
    }
   },
   "outputs": [],
   "source": [
    "def get_book_links(page_soup) -> List[str]:\n",
    "    books = soup.findAll(lambda tag: tag.name == 'article' and tag.get('class') == [\"product_pod\"])\n",
    "    return [link.h3.a.attrs['href'] for link in books]"
   ]
  },
  {
   "cell_type": "markdown",
   "metadata": {},
   "source": [
    "С помощью цикла соберите в лист `book_links` первые 200 книг."
   ]
  },
  {
   "cell_type": "code",
   "execution_count": 6,
   "metadata": {
    "deletable": false,
    "nbgrader": {
     "cell_type": "code",
     "checksum": "25cc39adb04c7c00c5e117837d9c606d",
     "grade": false,
     "grade_id": "cell-883211fab847e672",
     "locked": false,
     "schema_version": 3,
     "solution": true,
     "task": false
    }
   },
   "outputs": [],
   "source": [
    "book_links = []\n",
    "page_number = 1\n",
    "while len(book_links) < 200:\n",
    "    link = main_url + 'page-{}.html'.format(page_number)\n",
    "    soup = get_page_soup(link)\n",
    "    res = get_book_links(soup)\n",
    "    book_links.extend(res)\n",
    "    page_number += 1"
   ]
  },
  {
   "cell_type": "code",
   "execution_count": 7,
   "metadata": {},
   "outputs": [],
   "source": [
    "book_links = sorted(book_links)"
   ]
  },
  {
   "cell_type": "code",
   "execution_count": 8,
   "metadata": {
    "deletable": false,
    "editable": false,
    "nbgrader": {
     "cell_type": "code",
     "checksum": "5612dea4ceb41e455f47a77f81d6e97c",
     "grade": true,
     "grade_id": "cell-fb6eac2f95e1147e",
     "locked": true,
     "points": 1,
     "schema_version": 3,
     "solution": false,
     "task": false
    }
   },
   "outputs": [],
   "source": [
    "# проверка, что задание решено корректно\n",
    "assert len(book_links) == 200"
   ]
  },
  {
   "cell_type": "markdown",
   "metadata": {},
   "source": [
    "# 2. Сбор информации о книгах \n",
    "\n",
    "Напишите несколько небольших функций, которые собирают различные данные об одной книге, необходимые для ответов на вопросы ниже. Информацию о книге собирайте в виде словаря вида \n",
    "\n",
    "```\n",
    "{ 'name': 'Преступление и наказание', 'rating': 1, 'description': 'ужасно депрессивная книга', ... }\n",
    "\n",
    "```"
   ]
  },
  {
   "cell_type": "code",
   "execution_count": 9,
   "metadata": {
    "deletable": false,
    "nbgrader": {
     "cell_type": "code",
     "checksum": "defea54e7bc7d4545e27bbd019f41ae2",
     "grade": false,
     "grade_id": "cell-a3b3b4c91addb471",
     "locked": false,
     "schema_version": 3,
     "solution": true,
     "task": false
    }
   },
   "outputs": [],
   "source": [
    "def get_name(soup):\n",
    "    describe = soup.find('div', attrs={'class':'col-sm-6 product_main'})\n",
    "    result = describe.h1.text\n",
    "    return result\n",
    "\n",
    "def get_rating(soup):\n",
    "    describe = soup.find('p', attrs={'class':'star-rating'})\n",
    "    answer = describe.get('class')[1]\n",
    "    if (answer == 'One'):\n",
    "        return 1\n",
    "    elif (answer == 'Two'):\n",
    "        return 2\n",
    "    elif (answer == 'Three'):\n",
    "        return 3\n",
    "    elif (answer == 'Four'):\n",
    "        return 4\n",
    "    elif (answer == 'Five'):\n",
    "        return 5\n",
    "    else:\n",
    "        return 0"
   ]
  },
  {
   "cell_type": "code",
   "execution_count": 10,
   "metadata": {},
   "outputs": [],
   "source": [
    "def get_descr(soup):\n",
    "    describe = soup.findAll('p')[3]\n",
    "    return describe.text"
   ]
  },
  {
   "cell_type": "code",
   "execution_count": 11,
   "metadata": {},
   "outputs": [],
   "source": [
    "def get_tax(soup):\n",
    "    describe = soup.findAll('td')[4]\n",
    "    return float(describe.text[1:])"
   ]
  },
  {
   "cell_type": "code",
   "execution_count": 12,
   "metadata": {},
   "outputs": [],
   "source": [
    "def get_price(soup):\n",
    "    describe = soup.findAll('td')[2]\n",
    "    return float(describe.text[1:])"
   ]
  },
  {
   "cell_type": "code",
   "execution_count": 13,
   "metadata": {},
   "outputs": [],
   "source": [
    "def get_attr(link):\n",
    "    result = {}\n",
    "    main_link = main_url + link\n",
    "    soup = get_page_soup(main_link)\n",
    "    result['name'] = get_name(soup)\n",
    "    result['rating'] = get_rating(soup)\n",
    "    result['description'] = get_descr(soup).replace(\"\\n\", '')\n",
    "    result['tax'] = get_tax(soup)\n",
    "    result['price'] = get_price(soup)\n",
    "    return result"
   ]
  },
  {
   "cell_type": "code",
   "execution_count": 14,
   "metadata": {},
   "outputs": [
    {
     "data": {
      "text/plain": [
       "{'name': \"The Bridge to Consciousness: I'm Writing the Bridge Between Science and Our Old and New Beliefs.\",\n",
       " 'rating': 3,\n",
       " 'description': '',\n",
       " 'tax': 0.0,\n",
       " 'price': 32.0}"
      ]
     },
     "execution_count": 14,
     "metadata": {},
     "output_type": "execute_result"
    }
   ],
   "source": [
    "get_attr(\"the-bridge-to-consciousness-im-writing-the-bridge-between-science-and-our-old-and-new-beliefs_840/index.html\")"
   ]
  },
  {
   "cell_type": "markdown",
   "metadata": {},
   "source": [
    "Пройдите циклом по всем сыслкам из списка `book_links` и соберите данные о книгах в вектор `book_info`. "
   ]
  },
  {
   "cell_type": "code",
   "execution_count": 15,
   "metadata": {
    "deletable": false,
    "nbgrader": {
     "cell_type": "code",
     "checksum": "418e8b0cadc167a34bd0937d72934bb4",
     "grade": false,
     "grade_id": "cell-240b7f956c433b45",
     "locked": false,
     "schema_version": 3,
     "solution": true,
     "task": false
    }
   },
   "outputs": [],
   "source": [
    "book_info = []\n",
    "for link in book_links:\n",
    "    book_info.append(get_attr(link))"
   ]
  },
  {
   "cell_type": "markdown",
   "metadata": {},
   "source": [
    "Превратим вектор из информации в полноценную таблицу с данными. "
   ]
  },
  {
   "cell_type": "code",
   "execution_count": 16,
   "metadata": {},
   "outputs": [
    {
     "name": "stdout",
     "output_type": "stream",
     "text": [
      "(200, 5)\n"
     ]
    },
    {
     "data": {
      "text/html": [
       "<div>\n",
       "<style scoped>\n",
       "    .dataframe tbody tr th:only-of-type {\n",
       "        vertical-align: middle;\n",
       "    }\n",
       "\n",
       "    .dataframe tbody tr th {\n",
       "        vertical-align: top;\n",
       "    }\n",
       "\n",
       "    .dataframe thead th {\n",
       "        text-align: right;\n",
       "    }\n",
       "</style>\n",
       "<table border=\"1\" class=\"dataframe\">\n",
       "  <thead>\n",
       "    <tr style=\"text-align: right;\">\n",
       "      <th></th>\n",
       "      <th>name</th>\n",
       "      <th>rating</th>\n",
       "      <th>description</th>\n",
       "      <th>tax</th>\n",
       "      <th>price</th>\n",
       "    </tr>\n",
       "  </thead>\n",
       "  <tbody>\n",
       "    <tr>\n",
       "      <th>0</th>\n",
       "      <td>A Court of Thorns and Roses (A Court of Thorns...</td>\n",
       "      <td>1</td>\n",
       "      <td>A thrilling, seductive new series from New Yor...</td>\n",
       "      <td>0.0</td>\n",
       "      <td>52.37</td>\n",
       "    </tr>\n",
       "    <tr>\n",
       "      <th>1</th>\n",
       "      <td>A Fierce and Subtle Poison</td>\n",
       "      <td>4</td>\n",
       "      <td>Everyone knows the legends about the cursed gi...</td>\n",
       "      <td>0.0</td>\n",
       "      <td>28.13</td>\n",
       "    </tr>\n",
       "    <tr>\n",
       "      <th>2</th>\n",
       "      <td>A Flight of Arrows (The Pathfinders #2)</td>\n",
       "      <td>5</td>\n",
       "      <td>October 1776--August 1777It is said that what ...</td>\n",
       "      <td>0.0</td>\n",
       "      <td>55.53</td>\n",
       "    </tr>\n",
       "    <tr>\n",
       "      <th>3</th>\n",
       "      <td>A Light in the Attic</td>\n",
       "      <td>3</td>\n",
       "      <td>It's hard to imagine a world without A Light i...</td>\n",
       "      <td>0.0</td>\n",
       "      <td>51.77</td>\n",
       "    </tr>\n",
       "    <tr>\n",
       "      <th>4</th>\n",
       "      <td>A Murder in Time</td>\n",
       "      <td>1</td>\n",
       "      <td>Beautiful and brilliant, Kendra Donovan is a r...</td>\n",
       "      <td>0.0</td>\n",
       "      <td>16.64</td>\n",
       "    </tr>\n",
       "  </tbody>\n",
       "</table>\n",
       "</div>"
      ],
      "text/plain": [
       "                                                name  rating  \\\n",
       "0  A Court of Thorns and Roses (A Court of Thorns...       1   \n",
       "1                         A Fierce and Subtle Poison       4   \n",
       "2            A Flight of Arrows (The Pathfinders #2)       5   \n",
       "3                               A Light in the Attic       3   \n",
       "4                                   A Murder in Time       1   \n",
       "\n",
       "                                         description  tax  price  \n",
       "0  A thrilling, seductive new series from New Yor...  0.0  52.37  \n",
       "1  Everyone knows the legends about the cursed gi...  0.0  28.13  \n",
       "2  October 1776--August 1777It is said that what ...  0.0  55.53  \n",
       "3  It's hard to imagine a world without A Light i...  0.0  51.77  \n",
       "4  Beautiful and brilliant, Kendra Donovan is a r...  0.0  16.64  "
      ]
     },
     "execution_count": 16,
     "metadata": {},
     "output_type": "execute_result"
    }
   ],
   "source": [
    "book_info_df = pd.DataFrame(book_info)\n",
    "print(book_info_df.shape)\n",
    "book_info_df.head()"
   ]
  },
  {
   "cell_type": "code",
   "execution_count": 17,
   "metadata": {},
   "outputs": [
    {
     "data": {
      "text/html": [
       "<div>\n",
       "<style scoped>\n",
       "    .dataframe tbody tr th:only-of-type {\n",
       "        vertical-align: middle;\n",
       "    }\n",
       "\n",
       "    .dataframe tbody tr th {\n",
       "        vertical-align: top;\n",
       "    }\n",
       "\n",
       "    .dataframe thead th {\n",
       "        text-align: right;\n",
       "    }\n",
       "</style>\n",
       "<table border=\"1\" class=\"dataframe\">\n",
       "  <thead>\n",
       "    <tr style=\"text-align: right;\">\n",
       "      <th></th>\n",
       "      <th>name</th>\n",
       "      <th>rating</th>\n",
       "      <th>description</th>\n",
       "      <th>tax</th>\n",
       "      <th>price</th>\n",
       "    </tr>\n",
       "  </thead>\n",
       "  <tbody>\n",
       "    <tr>\n",
       "      <th>0</th>\n",
       "      <td>A Court of Thorns and Roses (A Court of Thorns...</td>\n",
       "      <td>1</td>\n",
       "      <td>A thrilling, seductive new series from New Yor...</td>\n",
       "      <td>0.0</td>\n",
       "      <td>52.37</td>\n",
       "    </tr>\n",
       "    <tr>\n",
       "      <th>1</th>\n",
       "      <td>A Fierce and Subtle Poison</td>\n",
       "      <td>4</td>\n",
       "      <td>Everyone knows the legends about the cursed gi...</td>\n",
       "      <td>0.0</td>\n",
       "      <td>28.13</td>\n",
       "    </tr>\n",
       "    <tr>\n",
       "      <th>2</th>\n",
       "      <td>A Flight of Arrows (The Pathfinders #2)</td>\n",
       "      <td>5</td>\n",
       "      <td>October 1776--August 1777It is said that what ...</td>\n",
       "      <td>0.0</td>\n",
       "      <td>55.53</td>\n",
       "    </tr>\n",
       "    <tr>\n",
       "      <th>3</th>\n",
       "      <td>A Light in the Attic</td>\n",
       "      <td>3</td>\n",
       "      <td>It's hard to imagine a world without A Light i...</td>\n",
       "      <td>0.0</td>\n",
       "      <td>51.77</td>\n",
       "    </tr>\n",
       "    <tr>\n",
       "      <th>4</th>\n",
       "      <td>A Murder in Time</td>\n",
       "      <td>1</td>\n",
       "      <td>Beautiful and brilliant, Kendra Donovan is a r...</td>\n",
       "      <td>0.0</td>\n",
       "      <td>16.64</td>\n",
       "    </tr>\n",
       "    <tr>\n",
       "      <th>...</th>\n",
       "      <td>...</td>\n",
       "      <td>...</td>\n",
       "      <td>...</td>\n",
       "      <td>...</td>\n",
       "      <td>...</td>\n",
       "    </tr>\n",
       "    <tr>\n",
       "      <th>195</th>\n",
       "      <td>William Shakespeare's Star Wars: Verily, A New...</td>\n",
       "      <td>4</td>\n",
       "      <td>MAY THE VERSE BE WITH YOU!Return once more to ...</td>\n",
       "      <td>0.0</td>\n",
       "      <td>43.30</td>\n",
       "    </tr>\n",
       "    <tr>\n",
       "      <th>196</th>\n",
       "      <td>Without Borders (Wanderlove #1)</td>\n",
       "      <td>2</td>\n",
       "      <td>For Annie London, a month in a Central America...</td>\n",
       "      <td>0.0</td>\n",
       "      <td>45.07</td>\n",
       "    </tr>\n",
       "    <tr>\n",
       "      <th>197</th>\n",
       "      <td>Worlds Elsewhere: Journeys Around Shakespeare’...</td>\n",
       "      <td>5</td>\n",
       "      <td>Anti-apartheid activist, Bollywood screenwrite...</td>\n",
       "      <td>0.0</td>\n",
       "      <td>40.30</td>\n",
       "    </tr>\n",
       "    <tr>\n",
       "      <th>198</th>\n",
       "      <td>You Are What You Love: The Spiritual Power of ...</td>\n",
       "      <td>4</td>\n",
       "      <td>You are what you love. But you might not love ...</td>\n",
       "      <td>0.0</td>\n",
       "      <td>21.87</td>\n",
       "    </tr>\n",
       "    <tr>\n",
       "      <th>199</th>\n",
       "      <td>You can't bury them all: Poems</td>\n",
       "      <td>2</td>\n",
       "      <td>A poetry that is at once harrowing, angry, and...</td>\n",
       "      <td>0.0</td>\n",
       "      <td>33.63</td>\n",
       "    </tr>\n",
       "  </tbody>\n",
       "</table>\n",
       "<p>200 rows × 5 columns</p>\n",
       "</div>"
      ],
      "text/plain": [
       "                                                  name  rating  \\\n",
       "0    A Court of Thorns and Roses (A Court of Thorns...       1   \n",
       "1                           A Fierce and Subtle Poison       4   \n",
       "2              A Flight of Arrows (The Pathfinders #2)       5   \n",
       "3                                 A Light in the Attic       3   \n",
       "4                                     A Murder in Time       1   \n",
       "..                                                 ...     ...   \n",
       "195  William Shakespeare's Star Wars: Verily, A New...       4   \n",
       "196                    Without Borders (Wanderlove #1)       2   \n",
       "197  Worlds Elsewhere: Journeys Around Shakespeare’...       5   \n",
       "198  You Are What You Love: The Spiritual Power of ...       4   \n",
       "199                     You can't bury them all: Poems       2   \n",
       "\n",
       "                                           description  tax  price  \n",
       "0    A thrilling, seductive new series from New Yor...  0.0  52.37  \n",
       "1    Everyone knows the legends about the cursed gi...  0.0  28.13  \n",
       "2    October 1776--August 1777It is said that what ...  0.0  55.53  \n",
       "3    It's hard to imagine a world without A Light i...  0.0  51.77  \n",
       "4    Beautiful and brilliant, Kendra Donovan is a r...  0.0  16.64  \n",
       "..                                                 ...  ...    ...  \n",
       "195  MAY THE VERSE BE WITH YOU!Return once more to ...  0.0  43.30  \n",
       "196  For Annie London, a month in a Central America...  0.0  45.07  \n",
       "197  Anti-apartheid activist, Bollywood screenwrite...  0.0  40.30  \n",
       "198  You are what you love. But you might not love ...  0.0  21.87  \n",
       "199  A poetry that is at once harrowing, angry, and...  0.0  33.63  \n",
       "\n",
       "[200 rows x 5 columns]"
      ]
     },
     "execution_count": 17,
     "metadata": {},
     "output_type": "execute_result"
    }
   ],
   "source": [
    "book_info_df"
   ]
  },
  {
   "cell_type": "markdown",
   "metadata": {},
   "source": [
    "Теперь, когда все данные собраны, настало время ответить на несколько вопросов:"
   ]
  },
  {
   "cell_type": "markdown",
   "metadata": {},
   "source": [
    "- У скольких книг отсутствует описание? Положите число, получившееся в результате ваших манипуляций с таблицей, в переменную `ans1`. "
   ]
  },
  {
   "cell_type": "code",
   "execution_count": 18,
   "metadata": {
    "deletable": false,
    "nbgrader": {
     "cell_type": "code",
     "checksum": "0a54c60fbbab43a250f22bba8ae6f62d",
     "grade": false,
     "grade_id": "cell-818d91b73f034e1a",
     "locked": false,
     "schema_version": 3,
     "solution": true,
     "task": false
    }
   },
   "outputs": [],
   "source": [
    "ans1 = book_info_df[book_info_df[\"description\"] == ''].shape[0]"
   ]
  },
  {
   "cell_type": "code",
   "execution_count": 19,
   "metadata": {},
   "outputs": [
    {
     "name": "stdout",
     "output_type": "stream",
     "text": [
      "1\n"
     ]
    }
   ],
   "source": [
    "print(ans1)"
   ]
  },
  {
   "cell_type": "code",
   "execution_count": 20,
   "metadata": {
    "deletable": false,
    "editable": false,
    "nbgrader": {
     "cell_type": "code",
     "checksum": "9f491fbdefb015ad971b51368121c8f2",
     "grade": true,
     "grade_id": "cell-4b9e7e39b8921ba5",
     "locked": true,
     "points": 1,
     "schema_version": 3,
     "solution": false,
     "task": false
    }
   },
   "outputs": [],
   "source": [
    "# проверка, что задание решено корректно"
   ]
  },
  {
   "cell_type": "markdown",
   "metadata": {},
   "source": [
    "- Сколько раз в данных встречается налог, больший нуля?  Положите число, получившееся в результате ваших манипуляций с таблицей, в переменную `ans2`. "
   ]
  },
  {
   "cell_type": "code",
   "execution_count": 21,
   "metadata": {
    "deletable": false,
    "nbgrader": {
     "cell_type": "code",
     "checksum": "881cb4d0c1333101e6756e8d38221100",
     "grade": false,
     "grade_id": "cell-be342205fa946a79",
     "locked": false,
     "schema_version": 3,
     "solution": true,
     "task": false
    }
   },
   "outputs": [],
   "source": [
    "ans2 = book_info_df[book_info_df[\"tax\"] > 0].shape[0]"
   ]
  },
  {
   "cell_type": "code",
   "execution_count": 22,
   "metadata": {},
   "outputs": [
    {
     "name": "stdout",
     "output_type": "stream",
     "text": [
      "0\n"
     ]
    }
   ],
   "source": [
    "print(ans2)"
   ]
  },
  {
   "cell_type": "code",
   "execution_count": 23,
   "metadata": {
    "deletable": false,
    "editable": false,
    "nbgrader": {
     "cell_type": "code",
     "checksum": "cd049541de0eb64f029f0ead81715e8e",
     "grade": true,
     "grade_id": "cell-c3b1e5331d25a061",
     "locked": true,
     "points": 0,
     "schema_version": 3,
     "solution": false,
     "task": false
    }
   },
   "outputs": [],
   "source": [
    "# проверка, что задание решено корректно"
   ]
  },
  {
   "cell_type": "markdown",
   "metadata": {},
   "source": [
    "- Сколько раз рейтинг книги составлял пять звезд? Положите число, получившееся в результате ваших манипуляций с таблицей, в переменную `ans3`. "
   ]
  },
  {
   "cell_type": "code",
   "execution_count": 24,
   "metadata": {
    "deletable": false,
    "nbgrader": {
     "cell_type": "code",
     "checksum": "9bed9ee4d147130e84c82fddec2f3764",
     "grade": false,
     "grade_id": "cell-a904ff9c737f3bae",
     "locked": false,
     "schema_version": 3,
     "solution": true,
     "task": false
    }
   },
   "outputs": [],
   "source": [
    "ans3 = book_info_df[book_info_df[\"rating\"] == 5].shape[0]"
   ]
  },
  {
   "cell_type": "code",
   "execution_count": 25,
   "metadata": {},
   "outputs": [
    {
     "name": "stdout",
     "output_type": "stream",
     "text": [
      "37\n"
     ]
    }
   ],
   "source": [
    "print(ans3)"
   ]
  },
  {
   "cell_type": "code",
   "execution_count": 26,
   "metadata": {
    "deletable": false,
    "editable": false,
    "nbgrader": {
     "cell_type": "code",
     "checksum": "78c9f492a04cbbd857b2392ae47d0183",
     "grade": true,
     "grade_id": "cell-ac096895d662ffc8",
     "locked": true,
     "points": 1,
     "schema_version": 3,
     "solution": false,
     "task": false
    }
   },
   "outputs": [],
   "source": [
    "# проверка, что задание решено корректно\n"
   ]
  },
  {
   "cell_type": "markdown",
   "metadata": {},
   "source": [
    "- Какова средняя цена книг (без учета налога)? Положите число, получившееся в результате ваших манипуляций с таблицей, в переменную `ans4`. "
   ]
  },
  {
   "cell_type": "code",
   "execution_count": 27,
   "metadata": {
    "deletable": false,
    "nbgrader": {
     "cell_type": "code",
     "checksum": "2ba621a61f0c0e5e50a4c01253676973",
     "grade": false,
     "grade_id": "cell-60c854eb83c66df8",
     "locked": false,
     "schema_version": 3,
     "solution": true,
     "task": false
    }
   },
   "outputs": [],
   "source": [
    "ans4 = book_info_df[\"price\"].mean()"
   ]
  },
  {
   "cell_type": "code",
   "execution_count": 28,
   "metadata": {},
   "outputs": [
    {
     "name": "stdout",
     "output_type": "stream",
     "text": [
      "34.79625000000001\n"
     ]
    }
   ],
   "source": [
    "print(ans4)"
   ]
  },
  {
   "cell_type": "code",
   "execution_count": 29,
   "metadata": {
    "deletable": false,
    "editable": false,
    "nbgrader": {
     "cell_type": "code",
     "checksum": "16f95015c013e7a27c8890721fd6d7c5",
     "grade": true,
     "grade_id": "cell-36295b0dc83ec0ad",
     "locked": true,
     "points": 1,
     "schema_version": 3,
     "solution": false,
     "task": false
    }
   },
   "outputs": [],
   "source": [
    "# проверка, что задание решено корректно\n"
   ]
  },
  {
   "cell_type": "markdown",
   "metadata": {},
   "source": [
    " "
   ]
  }
 ],
 "metadata": {
  "kernelspec": {
   "display_name": "Python 3",
   "language": "python",
   "name": "python3"
  },
  "language_info": {
   "codemirror_mode": {
    "name": "ipython",
    "version": 3
   },
   "file_extension": ".py",
   "mimetype": "text/x-python",
   "name": "python",
   "nbconvert_exporter": "python",
   "pygments_lexer": "ipython3",
   "version": "3.7.6"
  },
  "varInspector": {
   "cols": {
    "lenName": 16,
    "lenType": 16,
    "lenVar": 40
   },
   "kernels_config": {
    "python": {
     "delete_cmd_postfix": "",
     "delete_cmd_prefix": "del ",
     "library": "var_list.py",
     "varRefreshCmd": "print(var_dic_list())"
    },
    "r": {
     "delete_cmd_postfix": ") ",
     "delete_cmd_prefix": "rm(",
     "library": "var_list.r",
     "varRefreshCmd": "cat(var_dic_list()) "
    }
   },
   "types_to_exclude": [
    "module",
    "function",
    "builtin_function_or_method",
    "instance",
    "_Feature"
   ],
   "window_display": false
  }
 },
 "nbformat": 4,
 "nbformat_minor": 2
}
